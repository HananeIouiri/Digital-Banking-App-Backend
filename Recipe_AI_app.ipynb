{
  "nbformat": 4,
  "nbformat_minor": 0,
  "metadata": {
    "colab": {
      "provenance": [],
      "authorship_tag": "ABX9TyN2yKZKK7MFYe5rrmLQp+VU",
      "include_colab_link": true
    },
    "kernelspec": {
      "name": "python3",
      "display_name": "Python 3"
    },
    "language_info": {
      "name": "python"
    }
  },
  "cells": [
    {
      "cell_type": "markdown",
      "metadata": {
        "id": "view-in-github",
        "colab_type": "text"
      },
      "source": [
        "<a href=\"https://colab.research.google.com/github/HananeIouiri/Digital-Banking-App-Backend/blob/main/Recipe_AI_app.ipynb\" target=\"_parent\"><img src=\"https://colab.research.google.com/assets/colab-badge.svg\" alt=\"Open In Colab\"/></a>"
      ]
    },
    {
      "cell_type": "code",
      "execution_count": null,
      "metadata": {
        "id": "4oqu97nA1Zbk"
      },
      "outputs": [],
      "source": [
        "# Import the libraries\n",
        "import numpy as np\n",
        "import pandas as pd\n",
        "from sklearn.datasets import make_regression\n",
        "import matplotlib.pyplot as plt\n",
        "import re\n",
        "from sklearn.model_selection import train_test_split\n",
        "from sklearn.preprocessing import StandardScaler\n",
        "from sklearn.metrics import accuracy_score\n",
        "%matplotlib inline"
      ]
    },
    {
      "cell_type": "markdown",
      "source": [
        "# 1. Dataset\n"
      ],
      "metadata": {
        "id": "vPMMYLn-JjKD"
      }
    },
    {
      "cell_type": "code",
      "source": [
        "df1=pd.read_csv('recipes.csv')\n"
      ],
      "metadata": {
        "id": "kIpE8Pvn2mYY"
      },
      "execution_count": null,
      "outputs": []
    },
    {
      "cell_type": "code",
      "source": [
        "print(df1.shape)\n",
        "print(df1.head())\n"
      ],
      "metadata": {
        "id": "74aFkWef2Anj",
        "outputId": "44d1325f-0af4-46d5-d6c4-35ad53c5281f",
        "colab": {
          "base_uri": "https://localhost:8080/"
        }
      },
      "execution_count": null,
      "outputs": [
        {
          "output_type": "stream",
          "name": "stdout",
          "text": [
            "(83782, 12)\n",
            "                                   name      id  minutes  contributor_id  \\\n",
            "0  1 brownies in the world    best ever  333281       40          985201   \n",
            "1    1 in canada chocolate chip cookies  453467       45         1848091   \n",
            "2                412 broccoli casserole  306168       40           50969   \n",
            "3                millionaire pound cake  286009      120          461724   \n",
            "4                         2000 meatloaf  475785       90         2202916   \n",
            "\n",
            "    submitted                                               tags  \\\n",
            "0  2008-10-27  ['60-minutes-or-less', 'time-to-make', 'course...   \n",
            "1  2011-04-11  ['60-minutes-or-less', 'time-to-make', 'cuisin...   \n",
            "2  2008-05-30  ['60-minutes-or-less', 'time-to-make', 'course...   \n",
            "3  2008-02-12  ['time-to-make', 'course', 'cuisine', 'prepara...   \n",
            "4  2012-03-06  ['time-to-make', 'course', 'main-ingredient', ...   \n",
            "\n",
            "                                       nutrition  n_steps  \\\n",
            "0       [138.4, 10.0, 50.0, 3.0, 3.0, 19.0, 6.0]       10   \n",
            "1   [595.1, 46.0, 211.0, 22.0, 13.0, 51.0, 26.0]       12   \n",
            "2      [194.8, 20.0, 6.0, 32.0, 22.0, 36.0, 3.0]        6   \n",
            "3  [878.3, 63.0, 326.0, 13.0, 20.0, 123.0, 39.0]        7   \n",
            "4     [267.0, 30.0, 12.0, 12.0, 29.0, 48.0, 2.0]       17   \n",
            "\n",
            "                                               steps  \\\n",
            "0  ['heat the oven to 350f and arrange the rack i...   \n",
            "1  ['pre-heat oven the 350 degrees f', 'in a mixi...   \n",
            "2  ['preheat oven to 350 degrees', 'spray a 2 qua...   \n",
            "3  ['freheat the oven to 300 degrees', 'grease a ...   \n",
            "4  ['pan fry bacon , and set aside on a paper tow...   \n",
            "\n",
            "                                         description  \\\n",
            "0  these are the most; chocolatey, moist, rich, d...   \n",
            "1  this is the recipe that we use at my school ca...   \n",
            "2  since there are already 411 recipes for brocco...   \n",
            "3  why a millionaire pound cake?  because it's su...   \n",
            "4  ready, set, cook! special edition contest entr...   \n",
            "\n",
            "                                         ingredients  n_ingredients  \n",
            "0  ['bittersweet chocolate', 'unsalted butter', '...              9  \n",
            "1  ['white sugar', 'brown sugar', 'salt', 'margar...             11  \n",
            "2  ['frozen broccoli cuts', 'cream of chicken sou...              9  \n",
            "3  ['butter', 'sugar', 'eggs', 'all-purpose flour...              7  \n",
            "4  ['meatloaf mixture', 'unsmoked bacon', 'goat c...             13  \n"
          ]
        }
      ]
    },
    {
      "cell_type": "code",
      "source": [
        "# Parse nutrition field into separate columns\n",
        "df1[['calories','fat','sugar','sodium','protein','sat_fat','carbs']] = (\n",
        "    df1['nutrition'].str.strip('[]').str.split(',', expand=True).astype(float)\n",
        ")\n",
        "df1.head()"
      ],
      "metadata": {
        "id": "O-35e0Jo2Gzl",
        "colab": {
          "base_uri": "https://localhost:8080/",
          "height": 380
        },
        "outputId": "22de8f7a-156f-499d-d0c6-c89b982abcef"
      },
      "execution_count": null,
      "outputs": [
        {
          "output_type": "execute_result",
          "data": {
            "text/plain": [
              "                                   name      id  minutes  contributor_id  \\\n",
              "0  1 brownies in the world    best ever  333281       40          985201   \n",
              "1    1 in canada chocolate chip cookies  453467       45         1848091   \n",
              "2                412 broccoli casserole  306168       40           50969   \n",
              "3                millionaire pound cake  286009      120          461724   \n",
              "4                         2000 meatloaf  475785       90         2202916   \n",
              "\n",
              "    submitted                                               tags  \\\n",
              "0  2008-10-27  ['60-minutes-or-less', 'time-to-make', 'course...   \n",
              "1  2011-04-11  ['60-minutes-or-less', 'time-to-make', 'cuisin...   \n",
              "2  2008-05-30  ['60-minutes-or-less', 'time-to-make', 'course...   \n",
              "3  2008-02-12  ['time-to-make', 'course', 'cuisine', 'prepara...   \n",
              "4  2012-03-06  ['time-to-make', 'course', 'main-ingredient', ...   \n",
              "\n",
              "                                       nutrition  n_steps  \\\n",
              "0       [138.4, 10.0, 50.0, 3.0, 3.0, 19.0, 6.0]       10   \n",
              "1   [595.1, 46.0, 211.0, 22.0, 13.0, 51.0, 26.0]       12   \n",
              "2      [194.8, 20.0, 6.0, 32.0, 22.0, 36.0, 3.0]        6   \n",
              "3  [878.3, 63.0, 326.0, 13.0, 20.0, 123.0, 39.0]        7   \n",
              "4     [267.0, 30.0, 12.0, 12.0, 29.0, 48.0, 2.0]       17   \n",
              "\n",
              "                                               steps  \\\n",
              "0  ['heat the oven to 350f and arrange the rack i...   \n",
              "1  ['pre-heat oven the 350 degrees f', 'in a mixi...   \n",
              "2  ['preheat oven to 350 degrees', 'spray a 2 qua...   \n",
              "3  ['freheat the oven to 300 degrees', 'grease a ...   \n",
              "4  ['pan fry bacon , and set aside on a paper tow...   \n",
              "\n",
              "                                         description  \\\n",
              "0  these are the most; chocolatey, moist, rich, d...   \n",
              "1  this is the recipe that we use at my school ca...   \n",
              "2  since there are already 411 recipes for brocco...   \n",
              "3  why a millionaire pound cake?  because it's su...   \n",
              "4  ready, set, cook! special edition contest entr...   \n",
              "\n",
              "                                         ingredients  n_ingredients  calories  \\\n",
              "0  ['bittersweet chocolate', 'unsalted butter', '...              9     138.4   \n",
              "1  ['white sugar', 'brown sugar', 'salt', 'margar...             11     595.1   \n",
              "2  ['frozen broccoli cuts', 'cream of chicken sou...              9     194.8   \n",
              "3  ['butter', 'sugar', 'eggs', 'all-purpose flour...              7     878.3   \n",
              "4  ['meatloaf mixture', 'unsmoked bacon', 'goat c...             13     267.0   \n",
              "\n",
              "    fat  sugar  sodium  protein  sat_fat  carbs  \n",
              "0  10.0   50.0     3.0      3.0     19.0    6.0  \n",
              "1  46.0  211.0    22.0     13.0     51.0   26.0  \n",
              "2  20.0    6.0    32.0     22.0     36.0    3.0  \n",
              "3  63.0  326.0    13.0     20.0    123.0   39.0  \n",
              "4  30.0   12.0    12.0     29.0     48.0    2.0  "
            ],
            "text/html": [
              "\n",
              "  <div id=\"df-133214c4-59cc-4d9f-833e-d2b68337fc68\" class=\"colab-df-container\">\n",
              "    <div>\n",
              "<style scoped>\n",
              "    .dataframe tbody tr th:only-of-type {\n",
              "        vertical-align: middle;\n",
              "    }\n",
              "\n",
              "    .dataframe tbody tr th {\n",
              "        vertical-align: top;\n",
              "    }\n",
              "\n",
              "    .dataframe thead th {\n",
              "        text-align: right;\n",
              "    }\n",
              "</style>\n",
              "<table border=\"1\" class=\"dataframe\">\n",
              "  <thead>\n",
              "    <tr style=\"text-align: right;\">\n",
              "      <th></th>\n",
              "      <th>name</th>\n",
              "      <th>id</th>\n",
              "      <th>minutes</th>\n",
              "      <th>contributor_id</th>\n",
              "      <th>submitted</th>\n",
              "      <th>tags</th>\n",
              "      <th>nutrition</th>\n",
              "      <th>n_steps</th>\n",
              "      <th>steps</th>\n",
              "      <th>description</th>\n",
              "      <th>ingredients</th>\n",
              "      <th>n_ingredients</th>\n",
              "      <th>calories</th>\n",
              "      <th>fat</th>\n",
              "      <th>sugar</th>\n",
              "      <th>sodium</th>\n",
              "      <th>protein</th>\n",
              "      <th>sat_fat</th>\n",
              "      <th>carbs</th>\n",
              "    </tr>\n",
              "  </thead>\n",
              "  <tbody>\n",
              "    <tr>\n",
              "      <th>0</th>\n",
              "      <td>1 brownies in the world    best ever</td>\n",
              "      <td>333281</td>\n",
              "      <td>40</td>\n",
              "      <td>985201</td>\n",
              "      <td>2008-10-27</td>\n",
              "      <td>['60-minutes-or-less', 'time-to-make', 'course...</td>\n",
              "      <td>[138.4, 10.0, 50.0, 3.0, 3.0, 19.0, 6.0]</td>\n",
              "      <td>10</td>\n",
              "      <td>['heat the oven to 350f and arrange the rack i...</td>\n",
              "      <td>these are the most; chocolatey, moist, rich, d...</td>\n",
              "      <td>['bittersweet chocolate', 'unsalted butter', '...</td>\n",
              "      <td>9</td>\n",
              "      <td>138.4</td>\n",
              "      <td>10.0</td>\n",
              "      <td>50.0</td>\n",
              "      <td>3.0</td>\n",
              "      <td>3.0</td>\n",
              "      <td>19.0</td>\n",
              "      <td>6.0</td>\n",
              "    </tr>\n",
              "    <tr>\n",
              "      <th>1</th>\n",
              "      <td>1 in canada chocolate chip cookies</td>\n",
              "      <td>453467</td>\n",
              "      <td>45</td>\n",
              "      <td>1848091</td>\n",
              "      <td>2011-04-11</td>\n",
              "      <td>['60-minutes-or-less', 'time-to-make', 'cuisin...</td>\n",
              "      <td>[595.1, 46.0, 211.0, 22.0, 13.0, 51.0, 26.0]</td>\n",
              "      <td>12</td>\n",
              "      <td>['pre-heat oven the 350 degrees f', 'in a mixi...</td>\n",
              "      <td>this is the recipe that we use at my school ca...</td>\n",
              "      <td>['white sugar', 'brown sugar', 'salt', 'margar...</td>\n",
              "      <td>11</td>\n",
              "      <td>595.1</td>\n",
              "      <td>46.0</td>\n",
              "      <td>211.0</td>\n",
              "      <td>22.0</td>\n",
              "      <td>13.0</td>\n",
              "      <td>51.0</td>\n",
              "      <td>26.0</td>\n",
              "    </tr>\n",
              "    <tr>\n",
              "      <th>2</th>\n",
              "      <td>412 broccoli casserole</td>\n",
              "      <td>306168</td>\n",
              "      <td>40</td>\n",
              "      <td>50969</td>\n",
              "      <td>2008-05-30</td>\n",
              "      <td>['60-minutes-or-less', 'time-to-make', 'course...</td>\n",
              "      <td>[194.8, 20.0, 6.0, 32.0, 22.0, 36.0, 3.0]</td>\n",
              "      <td>6</td>\n",
              "      <td>['preheat oven to 350 degrees', 'spray a 2 qua...</td>\n",
              "      <td>since there are already 411 recipes for brocco...</td>\n",
              "      <td>['frozen broccoli cuts', 'cream of chicken sou...</td>\n",
              "      <td>9</td>\n",
              "      <td>194.8</td>\n",
              "      <td>20.0</td>\n",
              "      <td>6.0</td>\n",
              "      <td>32.0</td>\n",
              "      <td>22.0</td>\n",
              "      <td>36.0</td>\n",
              "      <td>3.0</td>\n",
              "    </tr>\n",
              "    <tr>\n",
              "      <th>3</th>\n",
              "      <td>millionaire pound cake</td>\n",
              "      <td>286009</td>\n",
              "      <td>120</td>\n",
              "      <td>461724</td>\n",
              "      <td>2008-02-12</td>\n",
              "      <td>['time-to-make', 'course', 'cuisine', 'prepara...</td>\n",
              "      <td>[878.3, 63.0, 326.0, 13.0, 20.0, 123.0, 39.0]</td>\n",
              "      <td>7</td>\n",
              "      <td>['freheat the oven to 300 degrees', 'grease a ...</td>\n",
              "      <td>why a millionaire pound cake?  because it's su...</td>\n",
              "      <td>['butter', 'sugar', 'eggs', 'all-purpose flour...</td>\n",
              "      <td>7</td>\n",
              "      <td>878.3</td>\n",
              "      <td>63.0</td>\n",
              "      <td>326.0</td>\n",
              "      <td>13.0</td>\n",
              "      <td>20.0</td>\n",
              "      <td>123.0</td>\n",
              "      <td>39.0</td>\n",
              "    </tr>\n",
              "    <tr>\n",
              "      <th>4</th>\n",
              "      <td>2000 meatloaf</td>\n",
              "      <td>475785</td>\n",
              "      <td>90</td>\n",
              "      <td>2202916</td>\n",
              "      <td>2012-03-06</td>\n",
              "      <td>['time-to-make', 'course', 'main-ingredient', ...</td>\n",
              "      <td>[267.0, 30.0, 12.0, 12.0, 29.0, 48.0, 2.0]</td>\n",
              "      <td>17</td>\n",
              "      <td>['pan fry bacon , and set aside on a paper tow...</td>\n",
              "      <td>ready, set, cook! special edition contest entr...</td>\n",
              "      <td>['meatloaf mixture', 'unsmoked bacon', 'goat c...</td>\n",
              "      <td>13</td>\n",
              "      <td>267.0</td>\n",
              "      <td>30.0</td>\n",
              "      <td>12.0</td>\n",
              "      <td>12.0</td>\n",
              "      <td>29.0</td>\n",
              "      <td>48.0</td>\n",
              "      <td>2.0</td>\n",
              "    </tr>\n",
              "  </tbody>\n",
              "</table>\n",
              "</div>\n",
              "    <div class=\"colab-df-buttons\">\n",
              "\n",
              "  <div class=\"colab-df-container\">\n",
              "    <button class=\"colab-df-convert\" onclick=\"convertToInteractive('df-133214c4-59cc-4d9f-833e-d2b68337fc68')\"\n",
              "            title=\"Convert this dataframe to an interactive table.\"\n",
              "            style=\"display:none;\">\n",
              "\n",
              "  <svg xmlns=\"http://www.w3.org/2000/svg\" height=\"24px\" viewBox=\"0 -960 960 960\">\n",
              "    <path d=\"M120-120v-720h720v720H120Zm60-500h600v-160H180v160Zm220 220h160v-160H400v160Zm0 220h160v-160H400v160ZM180-400h160v-160H180v160Zm440 0h160v-160H620v160ZM180-180h160v-160H180v160Zm440 0h160v-160H620v160Z\"/>\n",
              "  </svg>\n",
              "    </button>\n",
              "\n",
              "  <style>\n",
              "    .colab-df-container {\n",
              "      display:flex;\n",
              "      gap: 12px;\n",
              "    }\n",
              "\n",
              "    .colab-df-convert {\n",
              "      background-color: #E8F0FE;\n",
              "      border: none;\n",
              "      border-radius: 50%;\n",
              "      cursor: pointer;\n",
              "      display: none;\n",
              "      fill: #1967D2;\n",
              "      height: 32px;\n",
              "      padding: 0 0 0 0;\n",
              "      width: 32px;\n",
              "    }\n",
              "\n",
              "    .colab-df-convert:hover {\n",
              "      background-color: #E2EBFA;\n",
              "      box-shadow: 0px 1px 2px rgba(60, 64, 67, 0.3), 0px 1px 3px 1px rgba(60, 64, 67, 0.15);\n",
              "      fill: #174EA6;\n",
              "    }\n",
              "\n",
              "    .colab-df-buttons div {\n",
              "      margin-bottom: 4px;\n",
              "    }\n",
              "\n",
              "    [theme=dark] .colab-df-convert {\n",
              "      background-color: #3B4455;\n",
              "      fill: #D2E3FC;\n",
              "    }\n",
              "\n",
              "    [theme=dark] .colab-df-convert:hover {\n",
              "      background-color: #434B5C;\n",
              "      box-shadow: 0px 1px 3px 1px rgba(0, 0, 0, 0.15);\n",
              "      filter: drop-shadow(0px 1px 2px rgba(0, 0, 0, 0.3));\n",
              "      fill: #FFFFFF;\n",
              "    }\n",
              "  </style>\n",
              "\n",
              "    <script>\n",
              "      const buttonEl =\n",
              "        document.querySelector('#df-133214c4-59cc-4d9f-833e-d2b68337fc68 button.colab-df-convert');\n",
              "      buttonEl.style.display =\n",
              "        google.colab.kernel.accessAllowed ? 'block' : 'none';\n",
              "\n",
              "      async function convertToInteractive(key) {\n",
              "        const element = document.querySelector('#df-133214c4-59cc-4d9f-833e-d2b68337fc68');\n",
              "        const dataTable =\n",
              "          await google.colab.kernel.invokeFunction('convertToInteractive',\n",
              "                                                    [key], {});\n",
              "        if (!dataTable) return;\n",
              "\n",
              "        const docLinkHtml = 'Like what you see? Visit the ' +\n",
              "          '<a target=\"_blank\" href=https://colab.research.google.com/notebooks/data_table.ipynb>data table notebook</a>'\n",
              "          + ' to learn more about interactive tables.';\n",
              "        element.innerHTML = '';\n",
              "        dataTable['output_type'] = 'display_data';\n",
              "        await google.colab.output.renderOutput(dataTable, element);\n",
              "        const docLink = document.createElement('div');\n",
              "        docLink.innerHTML = docLinkHtml;\n",
              "        element.appendChild(docLink);\n",
              "      }\n",
              "    </script>\n",
              "  </div>\n",
              "\n",
              "\n",
              "    <div id=\"df-8d1c3124-edb5-4d35-8791-79843d7f50d1\">\n",
              "      <button class=\"colab-df-quickchart\" onclick=\"quickchart('df-8d1c3124-edb5-4d35-8791-79843d7f50d1')\"\n",
              "                title=\"Suggest charts\"\n",
              "                style=\"display:none;\">\n",
              "\n",
              "<svg xmlns=\"http://www.w3.org/2000/svg\" height=\"24px\"viewBox=\"0 0 24 24\"\n",
              "     width=\"24px\">\n",
              "    <g>\n",
              "        <path d=\"M19 3H5c-1.1 0-2 .9-2 2v14c0 1.1.9 2 2 2h14c1.1 0 2-.9 2-2V5c0-1.1-.9-2-2-2zM9 17H7v-7h2v7zm4 0h-2V7h2v10zm4 0h-2v-4h2v4z\"/>\n",
              "    </g>\n",
              "</svg>\n",
              "      </button>\n",
              "\n",
              "<style>\n",
              "  .colab-df-quickchart {\n",
              "      --bg-color: #E8F0FE;\n",
              "      --fill-color: #1967D2;\n",
              "      --hover-bg-color: #E2EBFA;\n",
              "      --hover-fill-color: #174EA6;\n",
              "      --disabled-fill-color: #AAA;\n",
              "      --disabled-bg-color: #DDD;\n",
              "  }\n",
              "\n",
              "  [theme=dark] .colab-df-quickchart {\n",
              "      --bg-color: #3B4455;\n",
              "      --fill-color: #D2E3FC;\n",
              "      --hover-bg-color: #434B5C;\n",
              "      --hover-fill-color: #FFFFFF;\n",
              "      --disabled-bg-color: #3B4455;\n",
              "      --disabled-fill-color: #666;\n",
              "  }\n",
              "\n",
              "  .colab-df-quickchart {\n",
              "    background-color: var(--bg-color);\n",
              "    border: none;\n",
              "    border-radius: 50%;\n",
              "    cursor: pointer;\n",
              "    display: none;\n",
              "    fill: var(--fill-color);\n",
              "    height: 32px;\n",
              "    padding: 0;\n",
              "    width: 32px;\n",
              "  }\n",
              "\n",
              "  .colab-df-quickchart:hover {\n",
              "    background-color: var(--hover-bg-color);\n",
              "    box-shadow: 0 1px 2px rgba(60, 64, 67, 0.3), 0 1px 3px 1px rgba(60, 64, 67, 0.15);\n",
              "    fill: var(--button-hover-fill-color);\n",
              "  }\n",
              "\n",
              "  .colab-df-quickchart-complete:disabled,\n",
              "  .colab-df-quickchart-complete:disabled:hover {\n",
              "    background-color: var(--disabled-bg-color);\n",
              "    fill: var(--disabled-fill-color);\n",
              "    box-shadow: none;\n",
              "  }\n",
              "\n",
              "  .colab-df-spinner {\n",
              "    border: 2px solid var(--fill-color);\n",
              "    border-color: transparent;\n",
              "    border-bottom-color: var(--fill-color);\n",
              "    animation:\n",
              "      spin 1s steps(1) infinite;\n",
              "  }\n",
              "\n",
              "  @keyframes spin {\n",
              "    0% {\n",
              "      border-color: transparent;\n",
              "      border-bottom-color: var(--fill-color);\n",
              "      border-left-color: var(--fill-color);\n",
              "    }\n",
              "    20% {\n",
              "      border-color: transparent;\n",
              "      border-left-color: var(--fill-color);\n",
              "      border-top-color: var(--fill-color);\n",
              "    }\n",
              "    30% {\n",
              "      border-color: transparent;\n",
              "      border-left-color: var(--fill-color);\n",
              "      border-top-color: var(--fill-color);\n",
              "      border-right-color: var(--fill-color);\n",
              "    }\n",
              "    40% {\n",
              "      border-color: transparent;\n",
              "      border-right-color: var(--fill-color);\n",
              "      border-top-color: var(--fill-color);\n",
              "    }\n",
              "    60% {\n",
              "      border-color: transparent;\n",
              "      border-right-color: var(--fill-color);\n",
              "    }\n",
              "    80% {\n",
              "      border-color: transparent;\n",
              "      border-right-color: var(--fill-color);\n",
              "      border-bottom-color: var(--fill-color);\n",
              "    }\n",
              "    90% {\n",
              "      border-color: transparent;\n",
              "      border-bottom-color: var(--fill-color);\n",
              "    }\n",
              "  }\n",
              "</style>\n",
              "\n",
              "      <script>\n",
              "        async function quickchart(key) {\n",
              "          const quickchartButtonEl =\n",
              "            document.querySelector('#' + key + ' button');\n",
              "          quickchartButtonEl.disabled = true;  // To prevent multiple clicks.\n",
              "          quickchartButtonEl.classList.add('colab-df-spinner');\n",
              "          try {\n",
              "            const charts = await google.colab.kernel.invokeFunction(\n",
              "                'suggestCharts', [key], {});\n",
              "          } catch (error) {\n",
              "            console.error('Error during call to suggestCharts:', error);\n",
              "          }\n",
              "          quickchartButtonEl.classList.remove('colab-df-spinner');\n",
              "          quickchartButtonEl.classList.add('colab-df-quickchart-complete');\n",
              "        }\n",
              "        (() => {\n",
              "          let quickchartButtonEl =\n",
              "            document.querySelector('#df-8d1c3124-edb5-4d35-8791-79843d7f50d1 button');\n",
              "          quickchartButtonEl.style.display =\n",
              "            google.colab.kernel.accessAllowed ? 'block' : 'none';\n",
              "        })();\n",
              "      </script>\n",
              "    </div>\n",
              "\n",
              "    </div>\n",
              "  </div>\n"
            ],
            "application/vnd.google.colaboratory.intrinsic+json": {
              "type": "dataframe",
              "variable_name": "df1",
              "summary": "{\n  \"name\": \"df1\",\n  \"rows\": 83782,\n  \"fields\": [\n    {\n      \"column\": \"name\",\n      \"properties\": {\n        \"dtype\": \"string\",\n        \"num_unique_values\": 83628,\n        \"samples\": [\n          \"toasted caprese sandwich\",\n          \"teriyaki steak sandwich with a twist\",\n          \"sweet   crunchy chicken broccoli slaw\"\n        ],\n        \"semantic_type\": \"\",\n        \"description\": \"\"\n      }\n    },\n    {\n      \"column\": \"id\",\n      \"properties\": {\n        \"dtype\": \"number\",\n        \"std\": 68715,\n        \"min\": 275022,\n        \"max\": 537716,\n        \"num_unique_values\": 83782,\n        \"samples\": [\n          282111,\n          383356,\n          276939\n        ],\n        \"semantic_type\": \"\",\n        \"description\": \"\"\n      }\n    },\n    {\n      \"column\": \"minutes\",\n      \"properties\": {\n        \"dtype\": \"number\",\n        \"std\": 3990,\n        \"min\": 0,\n        \"max\": 1051200,\n        \"num_unique_values\": 587,\n        \"samples\": [\n          43202,\n          385,\n          5770\n        ],\n        \"semantic_type\": \"\",\n        \"description\": \"\"\n      }\n    },\n    {\n      \"column\": \"contributor_id\",\n      \"properties\": {\n        \"dtype\": \"number\",\n        \"std\": 165502172,\n        \"min\": 1533,\n        \"max\": 2002289981,\n        \"num_unique_values\": 15443,\n        \"samples\": [\n          1911277,\n          1115022,\n          1302341\n        ],\n        \"semantic_type\": \"\",\n        \"description\": \"\"\n      }\n    },\n    {\n      \"column\": \"submitted\",\n      \"properties\": {\n        \"dtype\": \"object\",\n        \"num_unique_values\": 2873,\n        \"samples\": [\n          \"2013-09-04\",\n          \"2010-04-10\",\n          \"2008-10-12\"\n        ],\n        \"semantic_type\": \"\",\n        \"description\": \"\"\n      }\n    },\n    {\n      \"column\": \"tags\",\n      \"properties\": {\n        \"dtype\": \"string\",\n        \"num_unique_values\": 74142,\n        \"samples\": [\n          \"['15-minutes-or-less', 'time-to-make', 'course', 'main-ingredient', 'cuisine', 'preparation', 'occasion', 'north-american', 'for-large-groups', 'low-protein', '5-ingredients-or-less', 'appetizers', 'fruit', 'american', 'easy', 'holiday-event', 'dietary', 'low-sodium', 'low-in-something', 'number-of-servings', '3-steps-or-less']\",\n          \"['weeknight', 'time-to-make', 'course', 'main-ingredient', 'cuisine', 'preparation', 'occasion', 'soups-stews', 'pork', 'vegetables', 'chowders', 'south-american', 'spicy', 'argentine', 'comfort-food', 'peruvian', 'meat', 'pork-sausage', 'corn', 'squash', 'taste-mood', 'presentation', 'served-hot', '4-hours-or-less']\",\n          \"['15-minutes-or-less', 'time-to-make', 'course', 'main-ingredient', 'preparation', '5-ingredients-or-less', 'side-dishes', 'vegetables', 'easy', 'beginner-cook', 'inexpensive', 'green-yellow-beans', '3-steps-or-less']\"\n        ],\n        \"semantic_type\": \"\",\n        \"description\": \"\"\n      }\n    },\n    {\n      \"column\": \"nutrition\",\n      \"properties\": {\n        \"dtype\": \"string\",\n        \"num_unique_values\": 83210,\n        \"samples\": [\n          \"[281.9, 20.0, 26.0, 2.0, 14.0, 39.0, 12.0]\",\n          \"[445.4, 18.0, 81.0, 2.0, 27.0, 31.0, 23.0]\",\n          \"[40.5, 0.0, 5.0, 0.0, 4.0, 0.0, 2.0]\"\n        ],\n        \"semantic_type\": \"\",\n        \"description\": \"\"\n      }\n    },\n    {\n      \"column\": \"n_steps\",\n      \"properties\": {\n        \"dtype\": \"number\",\n        \"std\": 6,\n        \"min\": 1,\n        \"max\": 100,\n        \"num_unique_values\": 84,\n        \"samples\": [\n          59,\n          10,\n          58\n        ],\n        \"semantic_type\": \"\",\n        \"description\": \"\"\n      }\n    },\n    {\n      \"column\": \"steps\",\n      \"properties\": {\n        \"dtype\": \"string\",\n        \"num_unique_values\": 83594,\n        \"samples\": [\n          \"['crumble beef into large bowl', 'add salt', 'sprinkle crumbs and milk', 'let stand a few minutes until crumbs are soft', 'blend together', 'mix in egg and onion , sage , thyme , nutmeg and black pepper , mixing well', 'shape into 4 loaves', 'place on foil-lined baking sheet about 3 inches apart', 'mix brown sugar , catsup , ginger and garlic salt , soy sauce and mustard', 'spread mixture over tops of loaves', 'bake at 350 for 35 minutes']\",\n          \"['in a large saucepan cook celery and onion in hot oil just until tender', 'stir in tomatoes', 'heat through', 'add shrimp , whipping cream , and water', 'cook over medium heat just until hot', 'season to taste with pepper', 'ladle chowder into bowls', 'top with basil', 'serve with foccacia wedges or rolls , if desired']\",\n          \"['preheat oven to 350', 'add olive oil , peppers and onion to a large non-stick skillet and saute until tender', 'add black beans , cumin , chili powder , red pepper and cooked rice to skillet', 'stir to combine', 'remove from heat and stir in cilantro and lime juice', 'set aside', 'spray bottom of baking dish with cooking spray', 'spoon 1 / 8th of mixture into each tortilla , roll up and place into baking dish , seam side down', 'repeat with remaining tortillas', 'pour enchilada sauce evenly over enchiladas , cover with foil and bake 15 minutes', 'remove from oven , uncover and top with shredded cheddar cheese', 'bake 5 minutes longer , or until cheese has melted', 'serve with optional garnishes']\"\n        ],\n        \"semantic_type\": \"\",\n        \"description\": \"\"\n      }\n    },\n    {\n      \"column\": \"description\",\n      \"properties\": {\n        \"dtype\": \"string\",\n        \"num_unique_values\": 82200,\n        \"samples\": [\n          \"low carb snack; best made a few hours before serving.\",\n          \"from www.healthychoice.com --  these delicious chocolate chip cookies contain the goodness of whole grain combined with the sweet indulgence of semi-sweet chocolate morsels.\",\n          \"this is a tasty and easy way to make a  yummy rice.\"\n        ],\n        \"semantic_type\": \"\",\n        \"description\": \"\"\n      }\n    },\n    {\n      \"column\": \"ingredients\",\n      \"properties\": {\n        \"dtype\": \"string\",\n        \"num_unique_values\": 83582,\n        \"samples\": [\n          \"['roasting chicken', 'salt', 'fresh ground pepper', 'avocados', 'lime, juice and zest of', 'lemon, juice and zest of', 'garlic cloves', 'dried chili pepper flakes', 'parsley', 'tabasco sauce', 'honey', 'paprika', 'salt & freshly ground black pepper']\",\n          \"['sausages', 'eggs', 'cream', 'salt and pepper', 'green pepper', 'butter']\",\n          \"['beet juice', 'lemon juice', 'extra virgin olive oil', 'garlic cloves', 'dried thyme', 'sesame seeds', 'salt', 'lettuce', 'carrot', 'green onion', 'beet', 'cucumber']\"\n        ],\n        \"semantic_type\": \"\",\n        \"description\": \"\"\n      }\n    },\n    {\n      \"column\": \"n_ingredients\",\n      \"properties\": {\n        \"dtype\": \"number\",\n        \"std\": 3,\n        \"min\": 1,\n        \"max\": 37,\n        \"num_unique_values\": 34,\n        \"samples\": [\n          17,\n          19,\n          30\n        ],\n        \"semantic_type\": \"\",\n        \"description\": \"\"\n      }\n    },\n    {\n      \"column\": \"calories\",\n      \"properties\": {\n        \"dtype\": \"number\",\n        \"std\": 636.6284928717829,\n        \"min\": 0.0,\n        \"max\": 45609.0,\n        \"num_unique_values\": 13636,\n        \"samples\": [\n          180.9,\n          527.0,\n          194.5\n        ],\n        \"semantic_type\": \"\",\n        \"description\": \"\"\n      }\n    },\n    {\n      \"column\": \"fat\",\n      \"properties\": {\n        \"dtype\": \"number\",\n        \"std\": 60.14880468929094,\n        \"min\": 0.0,\n        \"max\": 3464.0,\n        \"num_unique_values\": 588,\n        \"samples\": [\n          756.0,\n          563.0,\n          2111.0\n        ],\n        \"semantic_type\": \"\",\n        \"description\": \"\"\n      }\n    },\n    {\n      \"column\": \"sugar\",\n      \"properties\": {\n        \"dtype\": \"number\",\n        \"std\": 247.23859948352464,\n        \"min\": 0.0,\n        \"max\": 30260.0,\n        \"num_unique_values\": 1380,\n        \"samples\": [\n          330.0,\n          374.0,\n          1353.0\n        ],\n        \"semantic_type\": \"\",\n        \"description\": \"\"\n      }\n    },\n    {\n      \"column\": \"sodium\",\n      \"properties\": {\n        \"dtype\": \"number\",\n        \"std\": 144.97493701477788,\n        \"min\": 0.0,\n        \"max\": 29338.0,\n        \"num_unique_values\": 578,\n        \"samples\": [\n          253.0,\n          583.0,\n          798.0\n        ],\n        \"semantic_type\": \"\",\n        \"description\": \"\"\n      }\n    },\n    {\n      \"column\": \"protein\",\n      \"properties\": {\n        \"dtype\": \"number\",\n        \"std\": 51.03298565978502,\n        \"min\": 0.0,\n        \"max\": 4356.0,\n        \"num_unique_values\": 436,\n        \"samples\": [\n          925.0,\n          68.0,\n          456.0\n        ],\n        \"semantic_type\": \"\",\n        \"description\": \"\"\n      }\n    },\n    {\n      \"column\": \"sat_fat\",\n      \"properties\": {\n        \"dtype\": \"number\",\n        \"std\": 80.91278838256348,\n        \"min\": 0.0,\n        \"max\": 6875.0,\n        \"num_unique_values\": 724,\n        \"samples\": [\n          323.0,\n          603.0,\n          624.0\n        ],\n        \"semantic_type\": \"\",\n        \"description\": \"\"\n      }\n    },\n    {\n      \"column\": \"carbs\",\n      \"properties\": {\n        \"dtype\": \"number\",\n        \"std\": 28.762702652492944,\n        \"min\": 0.0,\n        \"max\": 3007.0,\n        \"num_unique_values\": 365,\n        \"samples\": [\n          279.0,\n          28.0,\n          10.0\n        ],\n        \"semantic_type\": \"\",\n        \"description\": \"\"\n      }\n    }\n  ]\n}"
            }
          },
          "metadata": {},
          "execution_count": 370
        }
      ]
    },
    {
      "cell_type": "code",
      "source": [
        "# Features & Target\n",
        "x = df1[['fat','protein','carbs']]\n",
        "y = df1['calories']"
      ],
      "metadata": {
        "id": "q8LzP4RI8OgS"
      },
      "execution_count": null,
      "outputs": []
    },
    {
      "cell_type": "code",
      "source": [
        "x.shape\n",
        "y.shape\n",
        "y=df1.calories.values.reshape(-1,1)"
      ],
      "metadata": {
        "id": "EOTrQQuIKKz4"
      },
      "execution_count": null,
      "outputs": []
    },
    {
      "cell_type": "code",
      "source": [
        "#Notes:\n",
        "\n",
        "#Sugar is a type of carb, so you don’t add it separately if you already have total carbs.\n",
        "\n",
        "#Sodium contributes 0 calories.~"
      ],
      "metadata": {
        "id": "_Po9mTa98ctm"
      },
      "execution_count": null,
      "outputs": []
    },
    {
      "cell_type": "code",
      "source": [
        "x_train, x_test, y_train, y_test = train_test_split(x, y, test_size=0.2, random_state=42)"
      ],
      "metadata": {
        "id": "o8fN7u_0-sOY"
      },
      "execution_count": null,
      "outputs": []
    },
    {
      "cell_type": "code",
      "source": [
        "# 5. Feature Scaling\n",
        "scaler = StandardScaler()\n",
        "x_train_scaled = scaler.fit_transform(x_train)\n",
        "x_test_scaled = scaler.transform(x_test)"
      ],
      "metadata": {
        "id": "rpEX2t77IvVJ"
      },
      "execution_count": null,
      "outputs": []
    },
    {
      "cell_type": "code",
      "source": [
        "X_train=np.hstack((np.ones((x_train.shape[0], 1)),x_train_scaled))\n",
        "X_test=np.hstack((np.ones((x_test.shape[0], 1)),x_test_scaled))\n",
        "X_train\n",
        "X_test"
      ],
      "metadata": {
        "colab": {
          "base_uri": "https://localhost:8080/"
        },
        "id": "Vt2zGELRAukE",
        "outputId": "60708986-ce8b-4783-9abb-703e4c092d95"
      },
      "execution_count": null,
      "outputs": [
        {
          "output_type": "execute_result",
          "data": {
            "text/plain": [
              "array([[ 1.        , -0.29015547, -0.27177982, -0.13055806],\n",
              "       [ 1.        , -0.0947717 ,  0.60530139, -0.26630339],\n",
              "       [ 1.        , -0.43669331,  0.41463156, -0.26630339],\n",
              "       ...,\n",
              "       [ 1.        , -0.25759151, -0.6340525 , -0.4699214 ],\n",
              "       [ 1.        ,  0.24714991,  0.10955984, -0.02874905],\n",
              "       [ 1.        ,  0.63791746,  0.31929665,  0.27667796]])"
            ]
          },
          "metadata": {},
          "execution_count": 376
        }
      ]
    },
    {
      "cell_type": "code",
      "source": [
        "print(X_train.shape)\n",
        "print(X_test.shape)\n",
        "print(y_test.shape)\n",
        "print(y_train.shape)"
      ],
      "metadata": {
        "colab": {
          "base_uri": "https://localhost:8080/"
        },
        "id": "uRlYkikKJ8cb",
        "outputId": "5b3680e3-f860-429d-d73b-1df4a44597ef"
      },
      "execution_count": null,
      "outputs": [
        {
          "output_type": "stream",
          "name": "stdout",
          "text": [
            "(67025, 4)\n",
            "(16757, 4)\n",
            "(16757, 1)\n",
            "(67025, 1)\n"
          ]
        }
      ]
    },
    {
      "cell_type": "code",
      "source": [],
      "metadata": {
        "id": "B43MM_zZKIim"
      },
      "execution_count": null,
      "outputs": []
    },
    {
      "cell_type": "markdown",
      "source": [
        "## 2. Linear Model\n"
      ],
      "metadata": {
        "id": "fzG7lATrJecF"
      }
    },
    {
      "cell_type": "code",
      "source": [
        "def model(X,theta):\n",
        "  return X.dot(theta)"
      ],
      "metadata": {
        "id": "f0aV5qS5CM7q"
      },
      "execution_count": null,
      "outputs": []
    },
    {
      "cell_type": "code",
      "source": [
        "np.random.seed(0)\n",
        "theta=np.random.randn(4).reshape(-1,1)\n",
        "print('Theta',theta)"
      ],
      "metadata": {
        "colab": {
          "base_uri": "https://localhost:8080/"
        },
        "id": "MkJooJlIJyKY",
        "outputId": "f8f8cc00-4918-41bd-b3b6-b4e32b8ef7e2"
      },
      "execution_count": null,
      "outputs": [
        {
          "output_type": "stream",
          "name": "stdout",
          "text": [
            "Theta [[1.76405235]\n",
            " [0.40015721]\n",
            " [0.97873798]\n",
            " [2.2408932 ]]\n"
          ]
        }
      ]
    },
    {
      "cell_type": "markdown",
      "source": [
        "# 3. Cost Function"
      ],
      "metadata": {
        "id": "ZqGFQ89_LOCX"
      }
    },
    {
      "cell_type": "code",
      "source": [
        "def cost_function(X,y,theta):\n",
        "  m=len(y)\n",
        "  return 1/(2*m)*np.sum((model(X,theta)-y)**2)"
      ],
      "metadata": {
        "id": "rZHXmMjVLLH3"
      },
      "execution_count": null,
      "outputs": []
    },
    {
      "cell_type": "code",
      "source": [
        "cost_function(X_train,y_train,theta)"
      ],
      "metadata": {
        "colab": {
          "base_uri": "https://localhost:8080/"
        },
        "id": "d0g7pv3eLXyT",
        "outputId": "cfd52116-70cf-459a-a53e-f85a90f7a0be"
      },
      "execution_count": null,
      "outputs": [
        {
          "output_type": "execute_result",
          "data": {
            "text/plain": [
              "np.float64(300251.97828025196)"
            ]
          },
          "metadata": {},
          "execution_count": 381
        }
      ]
    },
    {
      "cell_type": "markdown",
      "source": [
        "#4 .Gradient Descent"
      ],
      "metadata": {
        "id": "3u7V346NMROJ"
      }
    },
    {
      "cell_type": "code",
      "source": [
        "def grad(X,y,theta):\n",
        "  m=len(y)\n",
        "  return 1/m*X.T.dot(model(X,theta)-y)"
      ],
      "metadata": {
        "id": "uYsST-eZLuW4"
      },
      "execution_count": null,
      "outputs": []
    },
    {
      "cell_type": "code",
      "source": [
        "def gradient_descent(X, Y, theta, learning_rate, n_iterations):\n",
        "\n",
        "    cost_history = np.zeros(n_iterations) # création d'un tableau de stockage pour enregistrer l'évolution du Cout du modele\n",
        "\n",
        "    for i in range(0, n_iterations):\n",
        "        theta = theta - learning_rate * grad(X, Y, theta) # mise a jour du parametre theta (formule du gradient descent)\n",
        "        cost_history[i] = cost_function(X, Y, theta) # on enregistre la valeur du Cout au tour i dans cost_history[i]\n",
        "\n",
        "    return theta, cost_history"
      ],
      "metadata": {
        "id": "R6LRBeXSMYOk"
      },
      "execution_count": null,
      "outputs": []
    },
    {
      "cell_type": "markdown",
      "source": [
        "# 5. Training Model"
      ],
      "metadata": {
        "id": "JNWTaWC6M7ZC"
      }
    },
    {
      "cell_type": "code",
      "source": [
        "n_iterations=100000\n",
        "learning_rate=0.001"
      ],
      "metadata": {
        "id": "uXLqDE91M44z"
      },
      "execution_count": null,
      "outputs": []
    },
    {
      "cell_type": "code",
      "source": [
        "theta_final,cost_history=gradient_descent(X_train,y_train,theta,learning_rate,n_iterations)"
      ],
      "metadata": {
        "id": "zY9DkTSQNDcQ"
      },
      "execution_count": null,
      "outputs": []
    },
    {
      "cell_type": "code",
      "source": [
        "theta_final,cost_history"
      ],
      "metadata": {
        "colab": {
          "base_uri": "https://localhost:8080/"
        },
        "id": "8M-lMgcrNNP_",
        "outputId": "abb984c9-bf21-4127-8812-f96f33dbedc0"
      },
      "execution_count": null,
      "outputs": [
        {
          "output_type": "execute_result",
          "data": {
            "text/plain": [
              "(array([[432.04347035],\n",
              "        [351.21074162],\n",
              "        [113.13665821],\n",
              "        [341.98934016]]),\n",
              " array([299342.48300408, 298435.96030671, 297532.40001784, ...,\n",
              "          1171.99810633,   1171.99810633,   1171.99810633]))"
            ]
          },
          "metadata": {},
          "execution_count": 386
        }
      ]
    },
    {
      "cell_type": "code",
      "source": [
        "# Learning curve\n",
        "plt.plot(range(n_iterations), cost_history)\n",
        "plt.xlabel(\"Number of iterations\")\n",
        "plt.ylabel(\"Cost\")\n",
        "plt.title(\"Evolution of cost during gradient descent\")\n",
        "plt.show()"
      ],
      "metadata": {
        "colab": {
          "base_uri": "https://localhost:8080/",
          "height": 472
        },
        "id": "gDfqfmQWN18Y",
        "outputId": "ec632f09-7768-4184-8be7-8897c735bff6"
      },
      "execution_count": null,
      "outputs": [
        {
          "output_type": "display_data",
          "data": {
            "text/plain": [
              "<Figure size 640x480 with 1 Axes>"
            ],
            "image/png": "[encoded data removed]"
          },
          "metadata": {}
        }
      ]
    },
    {
      "cell_type": "markdown",
      "source": [
        "#6. Predictions"
      ],
      "metadata": {
        "id": "tknUQR9MQpQU"
      }
    },
    {
      "cell_type": "markdown",
      "source": [],
      "metadata": {
        "id": "mn4ZQjB_4Yrn"
      }
    },
    {
      "cell_type": "code",
      "source": [
        "y_pred=model(X_test,theta_final)\n",
        "y_pred"
      ],
      "metadata": {
        "colab": {
          "base_uri": "https://localhost:8080/"
        },
        "id": "W94iOz6PQY1V",
        "outputId": "9514717f-b8e2-47b8-e7c1-159bd7f8198a"
      },
      "execution_count": null,
      "outputs": [
        {
          "output_type": "execute_result",
          "data": {
            "text/plain": [
              "array([[254.7400273 ],\n",
              "       [376.16748643],\n",
              "       [234.50919787],\n",
              "       ...,\n",
              "       [109.13187307],\n",
              "       [521.40853822],\n",
              "       [786.83200474]])"
            ]
          },
          "metadata": {},
          "execution_count": 388
        }
      ]
    },
    {
      "cell_type": "markdown",
      "source": [
        "# 7. Evaluation"
      ],
      "metadata": {
        "id": "zITioIujRGme"
      }
    },
    {
      "cell_type": "code",
      "source": [],
      "metadata": {
        "id": "EmyM_tJXRGMb"
      },
      "execution_count": null,
      "outputs": []
    },
    {
      "cell_type": "code",
      "source": [
        "def coef_determination(y, pred):\n",
        "    u = ((y - pred)**2).sum()\n",
        "    v = ((y - y.mean())**2).sum()\n",
        "    return 1 - u/v"
      ],
      "metadata": {
        "id": "XevdclgP5fse"
      },
      "execution_count": null,
      "outputs": []
    },
    {
      "cell_type": "code",
      "source": [
        "coef_determination(y_test,y_pred)"
      ],
      "metadata": {
        "colab": {
          "base_uri": "https://localhost:8080/"
        },
        "outputId": "5f09130c-e69a-495a-acaa-1e03bd8f4cc4",
        "id": "nBo6P_WY5fse"
      },
      "execution_count": null,
      "outputs": [
        {
          "output_type": "execute_result",
          "data": {
            "text/plain": [
              "np.float64(0.9945901918586794)"
            ]
          },
          "metadata": {},
          "execution_count": 390
        }
      ]
    },
    {
      "cell_type": "code",
      "source": [],
      "metadata": {
        "id": "sKu_prhCVW2M"
      },
      "execution_count": null,
      "outputs": []
    }
  ]
}